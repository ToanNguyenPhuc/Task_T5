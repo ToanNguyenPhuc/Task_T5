{
  "nbformat": 4,
  "nbformat_minor": 0,
  "metadata": {
    "colab": {
      "provenance": []
    },
    "kernelspec": {
      "name": "python3",
      "display_name": "Python 3"
    },
    "language_info": {
      "name": "python"
    }
  },
  "cells": [
    {
      "cell_type": "code",
      "execution_count": null,
      "metadata": {
        "id": "0uZ-Ik8qEww_"
      },
      "outputs": [],
      "source": [
        "\n",
        "def DataAgentWelCome():\n",
        "    # WelcomeToTheDungeon_v1 (done)\n",
        "  per1 = np.zeros(getStateSize() + 2)\n",
        "  per1[-1] = 0\n",
        "  per1[12] = 1\n",
        "  per1[-2] = 8\n",
        "  per2 = np.zeros(getStateSize() + 2)\n",
        "  per2[-1] = 1\n",
        "  per3 = np.zeros(getStateSize() + 2)\n",
        "  per3[-1] = 2\n",
        "  per4 = np.zeros(getStateSize() + 2)\n",
        "  per4[-1] = 15\n",
        "  per5 = np.zeros(getStateSize() + 2)\n",
        "  per5[-1] = 16\n",
        "  per6 = np.zeros(getStateSize() + 2)\n",
        "  per6[-1] = 17\n",
        "  per7= np.zeros(getStateSize() + 2)\n",
        "  per7[-1] = 18\n",
        "  per = [[per1],[per2],[per3],[per4],[per5],[per6],[per7]]\n",
        "  return per\n",
        "def DataAgentSheriff():\n",
        "      # generate per of Sheriff\n",
        "    per1 = np.zeros(getStateSize() + 2)\n",
        "    per1[-1] = 2\n",
        "    per2 = np.zeros(getStateSize() + 2)\n",
        "    per2[-1] = 3\n",
        "    per3 = np.zeros(getStateSize() + 2)\n",
        "    per3[-1] = 6\n",
        "    per4 = np.zeros(getStateSize() + 2)\n",
        "    per4[-1] = 8\n",
        "    per5 = np.zeros(getStateSize() + 2)\n",
        "    per5[-1] = 18\n",
        "    per6 = np.zeros(getStateSize() + 2)\n",
        "    per6[-1] = 19\n",
        "    per7 = np.zeros(getStateSize() + 2)\n",
        "    per7[-1] = 26\n",
        "    per8 = np.zeros(getStateSize() + 2)\n",
        "    per8[-1] = 28\n",
        "    per9 = np.zeros(getStateSize() + 2)\n",
        "    per9[-1] = 31\n",
        "    per10 = np.zeros(getStateSize() + 2)\n",
        "    per10[-1] = 32\n",
        "    per11 = np.zeros(getStateSize()+ 2)\n",
        "    per11[-1] = 49\n",
        "    per12 = np.zeros(getStateSize()+ 2)\n",
        "    per12[-1] = 61\n",
        "    per13 = np.zeros(getStateSize()+ 2)\n",
        "    per13[-1] = 65\n",
        "    per14 = np.zeros(getStateSize()+ 2)\n",
        "    per14[-1] = 69\n",
        "    per15 = np.zeros(getStateSize()+ 2)\n",
        "    per15[-1] = 77\n",
        "    per16 = np.zeros(getStateSize()+ 2)\n",
        "    per16[-1] = 78\n",
        "    per17 = np.zeros(getStateSize() + 2)\n",
        "    per17[-1] = 81\n",
        "    per = [[per1],[per2],[per3],[per4],[per5],[per6],[per7],[per8],[per9],[per10],[per11],[per12],[per13],[per14],[per15],[per16],[per17]]\n",
        "    return per"
      ]
    },
    {
      "cell_type": "code",
      "source": [
        "def Test(state,per):\n",
        "  actions = getValidActions(state)\n",
        "  actions = np.where(actions == 1)[0]\n",
        "  # print('state',state[12])\n",
        "\n",
        "\n",
        "  for layer in per:\n",
        "    for node in layer:\n",
        "      acFunc = node[:-2]\n",
        "      if np.matmul(state,acFunc) - node[-2] > 0:\n",
        "          if int(node[-1]) in actions:\n",
        "            return int(node[-1]),per\n",
        "      elif sum(acFunc) == 0 :\n",
        "        if int(node[-1]) in actions:\n",
        "          return int(node[-1]),per\n",
        "  return np.random.choice(actions),per\n",
        "win,per = numba_main_2(Test,1000,DataAgentSheriff(),1)\n",
        "print(win)"
      ],
      "metadata": {
        "colab": {
          "base_uri": "https://localhost:8080/"
        },
        "id": "m40fVix7Bdw-",
        "outputId": "87fe015a-02db-4760-e777-ade3bf0d7393"
      },
      "execution_count": null,
      "outputs": [
        {
          "output_type": "stream",
          "name": "stdout",
          "text": [
            "795\n"
          ]
        }
      ]
    }
  ]
}